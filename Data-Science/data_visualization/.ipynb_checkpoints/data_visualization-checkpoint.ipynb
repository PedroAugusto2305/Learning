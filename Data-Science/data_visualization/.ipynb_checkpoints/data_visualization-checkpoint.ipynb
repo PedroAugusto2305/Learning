{
 "cells": [
  {
   "cell_type": "markdown",
   "id": "7f7e227d",
   "metadata": {},
   "source": [
    "# Visualizando Dados"
   ]
  },
  {
   "cell_type": "markdown",
   "id": "81657c84",
   "metadata": {},
   "source": [
    "A visualização de dados tem duas funções básicas:\n",
    "- Explorar dados;\n",
    "- Comunicar dados.\n",
    "\n",
    "Criar visualizações é muito fácil, o díficil é produzir **boas visualizações**, usarei a biblioteca Matplotlib do Python para aprender os fundamentos da visualização de dados.\n",
    "\n",
    "## O que é Visualização de dados?\n",
    "\n",
    "É a representação gráfica de informações e dados. Usando elementos visuais, como diagramas, gráficos e mapas, a visualização de dados é uma forma acessível de ver e entender os dados e o que eles querem nos dizer.\n",
    "\n",
    "## Por que é importante?\n",
    "\n",
    "A visualização de dados é uma ferramenta essencial na tomada de decisão através de dados, por ser uma forma mais amigável de transmitir a mensagem que uma análise de dados quer passar, se torna uma ferramenta indispensável para qualquer setor em uma empresa nos dias atuais."
   ]
  },
  {
   "cell_type": "markdown",
   "id": "990bce04",
   "metadata": {},
   "source": [
    "# Matplotlib"
   ]
  },
  {
   "cell_type": "markdown",
   "id": "80072470",
   "metadata": {},
   "source": [
    "O Matplotlib é uma biblioteca para criação de gráficos e visualizações de dados em geral, foi feita em Python onde também é utilizada, é comumente usada em conjunto com a biblioteca de matemática Numpy.\n",
    "Foi a biblioteca que escolhi para estudar Data Visualization através do Python, por ser uma biblioteca simples e aproveitar meus conhecimentos na linguagem Python."
   ]
  },
  {
   "cell_type": "markdown",
   "id": "50b42f73",
   "metadata": {},
   "source": [
    "## Instalação\n",
    "\n",
    "Para instalar o Matplotlib é muito simples, basta executar o comando: `pip install -U matplotlib` no terminal e a biblioteca será instalada.\n",
    "\n",
    "\n",
    "## Importação"
   ]
  },
  {
   "cell_type": "code",
   "execution_count": 1,
   "id": "88ccefb6",
   "metadata": {},
   "outputs": [],
   "source": [
    "import matplotlib.pyplot as plt"
   ]
  },
  {
   "cell_type": "markdown",
   "id": "d6943b14",
   "metadata": {},
   "source": [
    "Link da documentação: https://matplotlib.org/stable/users/explain/quick_start.html"
   ]
  },
  {
   "cell_type": "markdown",
   "id": "cfad9c44",
   "metadata": {},
   "source": [
    "### Método plot()\n",
    "\n",
    "Documentação do plot: https://matplotlib.org/stable/api/_as_gen/matplotlib.pyplot.plot.html"
   ]
  },
  {
   "cell_type": "code",
   "execution_count": 4,
   "id": "e742f1e8",
   "metadata": {},
   "outputs": [
    {
     "data": {
      "image/png": "[encoded data removed]",
      "text/plain": [
       "<Figure size 432x288 with 1 Axes>"
      ]
     },
     "metadata": {
      "needs_background": "light"
     },
     "output_type": "display_data"
    }
   ],
   "source": [
    "x = [1, 2, 3, 4]\n",
    "y = [2, 3, 4, 3]\n",
    "\n",
    "plt.plot(x, y)\n",
    "\n",
    "plt.show()"
   ]
  }
 ],
 "metadata": {
  "kernelspec": {
   "display_name": "Python 3",
   "language": "python",
   "name": "python3"
  },
  "language_info": {
   "codemirror_mode": {
    "name": "ipython",
    "version": 3
   },
   "file_extension": ".py",
   "mimetype": "text/x-python",
   "name": "python",
   "nbconvert_exporter": "python",
   "pygments_lexer": "ipython3",
   "version": "3.6.13"
  }
 },
 "nbformat": 4,
 "nbformat_minor": 5
}
